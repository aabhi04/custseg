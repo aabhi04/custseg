import numpy as np
import pandas as pd
import matplotlib.pyplot as plt
import seaborn as sns

from sklearn.cluster import KMeans
from sklearn.neighbors import KNeighborsClassifier

import datetime as dt

df = pd.read_csv("marketing_campaign.csv",sep = '\t')
df.head()

df.isnull().sum()

df = df.dropna()

df.isnull().sum()

df['Total_kids']= df['Kidhome'] + df['Teenhome']

df['Spending'] = df['MntWines'] + df['MntFruits'] + df['MntMeatProducts'] + df['MntFishProducts'] + df['MntSweetProducts'] + df['MntGoldProds']
df['Age'] = 2015 - df.Year_Birth

df.Marital_Status = df.Marital_Status.replace({'Together': 'Married',
                                                'Divorced': 'Single',
                                                'Widow': 'Single',
                                                'Alone': 'Single',
                                                'Absurd': 'Single',
                                                'YOLO': 'Single'})

df.describe()

maritalstatus = df.Marital_Status.value_counts()
plt.pie(maritalstatus,
             labels = maritalstatus.index,
             explode=(0,0),
             autopct='%1.1f%%')
plt.title('Marital Status Distribution')

df = df[df.Age < 100]
df = df[df.Income < 120000]

plt.figure(figsize=(15,7))
sns.scatterplot(data=df, y='Spending', x='Income')
plt.title('Spending vs Income')

df=df[df.Income<30000]

plt.figure(figsize=(15,7))
sns.scatterplot(data=df, y='Age', x='Income')
plt.title('Age vs Income')

np.random.seed(42)
X = np.random.rand(50, 2)
y = np.random.randint(0, 2, 50)

knn = KNeighborsClassifier(n_neighbors=3)
knn.fit(X,y)

x_min, x_max = X[:, 0].min() - 0.1, X[:, 0].max() + 0.1
y_min, y_max = X[:, 1].min() - 0.1, X[:, 1].max() + 0.1
xx, yy = np.meshgrid(np.linspace(x_min, x_max, 100), np.linspace(y_min, y_max, 100))
Z = knn.predict(np.c_[xx.ravel(), yy.ravel()]).reshape(xx.shape)
plt.contourf(xx, yy, Z, alpha=0.3, cmap='viridis')

plt.show()
